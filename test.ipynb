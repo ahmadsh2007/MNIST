{
 "cells": [
  {
   "cell_type": "code",
   "execution_count": null,
   "metadata": {},
   "outputs": [],
   "source": [
    "import tensorflow as tf\n",
    "\n",
    "# Define the path to your dataset\n",
    "dataset_path = 'mnist_png/training'\n",
    "\n",
    "# Load dataset and automatically generate labels from folder names\n",
    "train_dataset = tf.keras.preprocessing.image_dataset_from_directory(\n",
    "    dataset_path,\n",
    "    image_size=(28, 28),  # Resize images to match your input shape\n",
    "    batch_size=32,           # Adjust batch size as needed\n",
    "    shuffle=True             # Shuffle the dataset\n",
    ")\n",
    "\n",
    "# Inspect the dataset\n",
    "class_names = train_dataset.class_names\n",
    "print(\"Class names:\", class_names)"
   ]
  }
 ],
 "metadata": {
  "kernelspec": {
   "display_name": "Tumor",
   "language": "python",
   "name": "python3"
  },
  "language_info": {
   "codemirror_mode": {
    "name": "ipython",
    "version": 3
   },
   "file_extension": ".py",
   "mimetype": "text/x-python",
   "name": "python",
   "nbconvert_exporter": "python",
   "pygments_lexer": "ipython3",
   "version": "3.10.14"
  }
 },
 "nbformat": 4,
 "nbformat_minor": 2
}
